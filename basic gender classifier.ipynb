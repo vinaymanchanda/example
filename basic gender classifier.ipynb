{
 "cells": [
  {
   "cell_type": "code",
   "execution_count": 26,
   "metadata": {},
   "outputs": [
    {
     "name": "stdout",
     "output_type": "stream",
     "text": [
      "Nearest Neighbors \t ['female'] \t 81.81818181818183 %\n",
      "Gaussian Process \t ['female'] \t 100.0 %\n",
      "Decision Tree \t ['male'] \t 100.0 %\n",
      "Random Forest \t ['male'] \t 100.0 %\n",
      "Best one is  Random Forest \t ['male'] \t 100.0 %\n"
     ]
    }
   ],
   "source": [
    "from sklearn.neighbors import KNeighborsClassifier\n",
    "from sklearn.gaussian_process import GaussianProcessClassifier\n",
    "from sklearn.tree import DecisionTreeClassifier\n",
    "from sklearn.ensemble import RandomForestClassifier\n",
    "\n",
    "names = [\"Nearest Neighbors\", \"Gaussian Process\",\n",
    "         \"Decision Tree\", \"Random Forest\"]\n",
    "\n",
    "classifiers = [\n",
    "    KNeighborsClassifier(3),\n",
    "    GaussianProcessClassifier(1.0 * RBF(1.0)),\n",
    "    DecisionTreeClassifier(max_depth=5),\n",
    "    RandomForestClassifier(max_depth=5, n_estimators=10, max_features=1)]\n",
    "\n",
    "\n",
    "# [height, weight, shoe_size]\n",
    "X = [[181, 80, 44], [177, 70, 43], [160, 60, 38], [154, 54, 37], [166, 65, 40],\n",
    "     [190, 90, 47], [175, 64, 39],\n",
    "     [177, 70, 40], [159, 55, 37], [171, 75, 42], [181, 85, 43]]\n",
    "\n",
    "Y = ['male', 'male', 'female', 'female', 'male', 'male', 'female', 'female',\n",
    "     'female', 'male', 'male']\n",
    "\n",
    "\n",
    "#  train classifiers on our data and print result\n",
    "for name, clf in zip(names, classifiers):\n",
    "    clf = clf.fit(X, Y)\n",
    "    prediction = clf.predict([[160, 60, 43]])\n",
    "    score = clf.score(X, Y)\n",
    "    print(name,\"\\t\", prediction,\"\\t\", score*100,\"%\")\n",
    "    a=0\n",
    "    if score>a:\n",
    "        b=name\n",
    "        a=score\n",
    "\n",
    "# compare their results  print the best one!\n",
    "  \n",
    "print(\"Best one is \",name,\"\\t\", prediction,\"\\t\", score*100,\"%\")\n"
   ]
  },
  {
   "cell_type": "code",
   "execution_count": null,
   "metadata": {},
   "outputs": [],
   "source": []
  }
 ],
 "metadata": {
  "kernelspec": {
   "display_name": "Python 3",
   "language": "python",
   "name": "python3"
  },
  "language_info": {
   "codemirror_mode": {
    "name": "ipython",
    "version": 3
   },
   "file_extension": ".py",
   "mimetype": "text/x-python",
   "name": "python",
   "nbconvert_exporter": "python",
   "pygments_lexer": "ipython3",
   "version": "3.6.3"
  }
 },
 "nbformat": 4,
 "nbformat_minor": 2
}
